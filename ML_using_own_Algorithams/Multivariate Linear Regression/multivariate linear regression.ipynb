{
 "cells": [
  {
   "cell_type": "code",
   "execution_count": 2,
   "metadata": {},
   "outputs": [],
   "source": [
    "# IMPORT REQUIRED LIBRARIES\n",
    "import numpy as np\n",
    "import matplotlib.pyplot as plt\n",
    "\n",
    "%matplotlib inline"
   ]
  },
  {
   "cell_type": "code",
   "execution_count": 3,
   "metadata": {},
   "outputs": [],
   "source": [
    "def feature_normalize(X):\n",
    "    '''\n",
    "    This function is used to normarize the feature values.\n",
    "    X = array of features\n",
    "    X_norm = normalized X\n",
    "    mu = mean of features\n",
    "    sigma = standard deviation\n",
    "    '''\n",
    "    X_norm = X\n",
    "    mu = []\n",
    "    sigma = []\n",
    "    \n",
    "    for i in range(X.shape[1]):\n",
    "        m = X_norm[:,i].mean()\n",
    "        s = X_norm[:,i].std()\n",
    "        \n",
    "        mu.append(m)\n",
    "        sigma.append(s)\n",
    "        \n",
    "        X_norm[:,i] = (X_norm[:,i] - m)/s\n",
    "        \n",
    "    return X_norm, np.array(mu).reshape(1, X.shape[1]), np.array(sigma).reshape(1,X.shape[1])"
   ]
  },
  {
   "cell_type": "code",
   "execution_count": 4,
   "metadata": {},
   "outputs": [],
   "source": [
    "def compute_cost(X,Y,theta):\n",
    "    '''\n",
    "    This is used to compute cost function of linear regression \n",
    "    m = number of training examples\n",
    "    n = number of features\n",
    "    X = shape = (m,n+1)\n",
    "    Y = shape = (m,1)\n",
    "    theta = parameter matrix (n+1,1)\n",
    "    j_theta = cost function\n",
    "    \n",
    "    '''\n",
    "    m = X.shape[0]\n",
    "    \n",
    "    h_x = np.dot(X,theta)\n",
    "    j_theta = (1/2*m) * np.sum((h_x - Y)**2)\n",
    "    \n",
    "    return j_theta"
   ]
  },
  {
   "cell_type": "code",
   "execution_count": 5,
   "metadata": {},
   "outputs": [],
   "source": [
    "def gradient_descent(X,Y,theta,alpha,num_iters):\n",
    "    \n",
    "    '''\n",
    "    This is used to compute gradient descent, which is \n",
    "    used to minimize the cost function (j_theta).\n",
    "    \n",
    "    m = number of training examples\n",
    "    n = number of features\n",
    "    X = shape = (m,n+1)\n",
    "    Y = shape = (m,1)\n",
    "    theta = parameter matrix (n+1,1)\n",
    "    num_iters = number of iterations\n",
    "    alpha = learning rate (+ve values only)\n",
    "    \n",
    "    '''\n",
    "    \n",
    "    m = X.shape[0]\n",
    "    \n",
    "    J_hystory = np.zeros((num_iters, 1))\n",
    "    for i in range(num_iters):\n",
    "        \n",
    "        for j in range(theta.size):\n",
    "            error = np.dot(X,theta) - Y\n",
    "            theta[j][0] = theta[j][0] - (alpha /m ) * np.sum(error * X[:,j].reshape(m,1))\n",
    "        \n",
    "        # recent j_theta value = J_hystory\n",
    "        J_hystory[i,0] =  compute_cost(X,Y,theta)/10000\n",
    "    return theta,J_hystory"
   ]
  },
  {
   "cell_type": "code",
   "execution_count": 6,
   "metadata": {},
   "outputs": [
    {
     "name": "stdout",
     "output_type": "stream",
     "text": [
      "STARTING ALGORITHAM....\n",
      "coefficients found by gradient descent :  [[338658.2492493 ]\n",
      " [103857.9363055 ]\n",
      " [ -1143.58125322]]\n",
      "predicted price for 1650 sq.ft and 3 bedroom house is :  [292591.61055057]\n"
     ]
    },
    {
     "data": {
      "image/png": "[encoded data removed]",
      "text/plain": [
       "<Figure size 432x288 with 1 Axes>"
      ]
     },
     "metadata": {
      "needs_background": "light"
     },
     "output_type": "display_data"
    }
   ],
   "source": [
    "# importing the dataset\n",
    "data = np.loadtxt('housing_prices.txt', delimiter=',')\n",
    "\n",
    "print('STARTING ALGORITHAM....')\n",
    "\n",
    "X = data[:,0:2]\n",
    "Y = data[:,2:]\n",
    "\n",
    "# initilizing parameters\n",
    "theta = np.zeros((3,1))\n",
    "\n",
    "m = X.shape[0]\n",
    "\n",
    "#feature normalizing\n",
    "x, mu, sigma = feature_normalize(X)\n",
    "\n",
    "X_norm = np.ones((m, 3))\n",
    "X_norm[:, 1:3] = x\n",
    "\n",
    "#initializing parameters\n",
    "iterations = 50\n",
    "alpha = 0.1\n",
    "\n",
    "# computing gradient descent \n",
    "theta,J_hystory = gradient_descent(X_norm,Y,theta,alpha,iterations)\n",
    "print('coefficients found by gradient descent : ', theta)\n",
    "\n",
    "#predicting the price of given value\n",
    "a = np.array([1,(1650-mu[0][0])/sigma[0][0],(3-mu[0][1])/sigma[0][1]])\n",
    "predicted_price = np.dot(a,theta)\n",
    "print(\"predicted price for 1650 sq.ft and 3 bedroom house is : \", predicted_price)\n",
    "\n",
    "\n",
    "# checking gradient descent algoritham is working or not\n",
    "plt.plot(range(1,len(J_hystory)+1), J_hystory, '-b', 'LineWidth', 2);\n",
    "plt.title('Number of iterations vs cost J')\n",
    "plt.xlabel('Number of iterations');\n",
    "plt.ylabel('Cost J');"
   ]
  }
 ],
 "metadata": {
  "kernelspec": {
   "display_name": "Python 3",
   "language": "python",
   "name": "python3"
  },
  "language_info": {
   "codemirror_mode": {
    "name": "ipython",
    "version": 3
   },
   "file_extension": ".py",
   "mimetype": "text/x-python",
   "name": "python",
   "nbconvert_exporter": "python",
   "pygments_lexer": "ipython3",
   "version": "3.8.10"
  }
 },
 "nbformat": 4,
 "nbformat_minor": 4
}
