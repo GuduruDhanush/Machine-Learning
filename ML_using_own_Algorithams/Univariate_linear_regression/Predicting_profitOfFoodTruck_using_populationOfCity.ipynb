{
 "cells": [
  {
   "cell_type": "code",
   "execution_count": 1,
   "metadata": {},
   "outputs": [],
   "source": [
    "# IMPORTING REQUIRED LIBRARIES\n",
    "\n",
    "import numpy as np\n",
    "import matplotlib.pyplot as plt\n",
    "import seaborn as sns\n",
    "sns.set()\n",
    "\n",
    "%matplotlib inline"
   ]
  },
  {
   "cell_type": "code",
   "execution_count": 2,
   "metadata": {},
   "outputs": [],
   "source": [
    "def compute_cost(X,Y,theta):\n",
    "    '''\n",
    "    compute_cost is a function, which is used to\n",
    "    calculate the cost function of linear regression.\n",
    "\n",
    "    X = (m,1)\n",
    "    Y = (m,1)\n",
    "    theta = (n,1)\n",
    "    '''\n",
    "    \n",
    "    # m = number of training examples\n",
    "    m = Y.shape[0]\n",
    "    \n",
    "    # J_theta = cost function\n",
    "    J_theta = (1/(2*m)) * np.sum((np.dot(X,theta) - Y)**2)\n",
    "    \n",
    "    return J_theta"
   ]
  },
  {
   "cell_type": "code",
   "execution_count": 3,
   "metadata": {},
   "outputs": [],
   "source": [
    "def gradient_descent(X,Y,theta,alpha,num_iters):\n",
    "    '''\n",
    "    gradient_descent is a function, which is used to\n",
    "    calculate the gradient_descent of linear regression.\n",
    "\n",
    "    X = (m,1)\n",
    "    Y = (m,1)\n",
    "    theta = (n,1)\n",
    "    alpha = learning rate\n",
    "    num_iters = number of iterations\n",
    "    '''\n",
    "    # m = number of training examples\n",
    "    m = Y.shape[0]\n",
    "    \n",
    "    J_hystory = np.zeros((num_iters, 1))\n",
    "    for i in range(num_iters):\n",
    "        \n",
    "        error = np.dot(X,theta) - Y\n",
    "        temp0 = theta[0][0] - (alpha /m ) * np.sum(error * X[:,0].reshape(m,1))\n",
    "        temp1 = theta[1][0] - ( alpha /m ) * np.sum(error * X[:,1].reshape(m,1))\n",
    "        theta = np.array([temp0,temp1]).reshape(2,1)\n",
    "        \n",
    "        # recent j_theta value = J_hystory\n",
    "        J_hystory[i,0] =  compute_cost(X,Y,theta)\n",
    "    return theta,J_hystory"
   ]
  },
  {
   "cell_type": "code",
   "execution_count": 4,
   "metadata": {},
   "outputs": [],
   "source": [
    "def plotdata(X,Y,marker):\n",
    "    '''\n",
    "    X = (m,1)\n",
    "    Y = (m,1)\n",
    "    '''\n",
    "    \n",
    "    fig = plt.plot(X,Y,marker)\n",
    "    plt.xlabel(\"Population of City in 10,000s\")\n",
    "    plt.ylabel('Profit in $10,000s')\n",
    "    plt.legend(labels = ['Training data', 'Linear regression'],loc = 4)\n",
    "    return fig"
   ]
  },
  {
   "cell_type": "code",
   "execution_count": 5,
   "metadata": {},
   "outputs": [],
   "source": [
    "data = np.loadtxt('foodTruck_profit.txt',delimiter=',')"
   ]
  },
  {
   "cell_type": "code",
   "execution_count": 6,
   "metadata": {
    "scrolled": false
   },
   "outputs": [
    {
     "name": "stdout",
     "output_type": "stream",
     "text": [
      "STARTING ALGORITHAM....\n",
      "With theta = [0 ; 0], Cost computed :  32.072733877455676\n",
      "With theta = [-1 ; 2], Cost computed :  54.24245508201238\n",
      "Theta found by gradient descent :  [[-3.63029144]\n",
      " [ 1.16636235]]\n",
      "For population = 35,000, we predict a profit of :  [[4519.7678677]]\n",
      "For population = 70,000, we predict a profit of :  [[45342.45012945]]\n"
     ]
    },
    {
     "data": {
      "image/png": "[encoded data removed]",
      "text/plain": [
       "<Figure size 432x288 with 1 Axes>"
      ]
     },
     "metadata": {
      "needs_background": "light"
     },
     "output_type": "display_data"
    }
   ],
   "source": [
    "\n",
    "print('STARTING ALGORITHAM....')\n",
    "\n",
    "# assigning population to X AND profit to Y\n",
    "X = data[:,0:1]                                \n",
    "Y = data[:,1:]\n",
    "\n",
    "\n",
    "# m = number of training examples\n",
    "m = Y.shape[0]\n",
    "\n",
    "\n",
    "\n",
    "# PLOTING THE DATA\n",
    "plotdata(X,Y,'o')\n",
    "\n",
    "\n",
    "\n",
    "# adding row vector of 1's to X\n",
    "X_1 = np.ones((m, 2))\n",
    "X_1[:, 1:2] = X\n",
    "\n",
    "\n",
    "# initializing the theta\n",
    "theta = np.zeros((2,1))\n",
    "\n",
    "\n",
    "\n",
    "# INITIALIZING THE HYPERPARAMETERS\n",
    "iterations = 1500\n",
    "alpha = 0.01\n",
    "\n",
    "\n",
    "\n",
    "# 1'ST TESTING THE COMPUTE_COST()\n",
    "J = compute_cost(X_1,Y,theta)\n",
    "print('With theta = [0 ; 0], Cost computed : ', J)\n",
    "\n",
    "\n",
    "\n",
    "# 2'ND TESTING THE COMPUTE_COST()\n",
    "J = compute_cost(X_1, Y, np.array([-1,2]).reshape(2,1))\n",
    "print('With theta = [-1 ; 2], Cost computed : ', J)\n",
    "\n",
    "\n",
    "\n",
    "\n",
    "# run gradient descent\n",
    "theta, J_hystory = gradient_descent(X_1, Y, theta, alpha, iterations)\n",
    "print('Theta found by gradient descent : ', theta)\n",
    "\n",
    "\n",
    "\n",
    "\n",
    "# PLOT THE LINEAR FIT\n",
    "plotdata(X_1[:,1].reshape(m,1),np.dot(X_1,theta),'-')\n",
    "\n",
    "\n",
    "\n",
    "\n",
    "# Predict values for population sizes of 35,000 and 70,000\n",
    "predict1 = np.dot(np.array([1, 3.5]).reshape(1,2),theta)\n",
    "print('For population = 35,000, we predict a profit of : ', predict1*10000)\n",
    "\n",
    "\n",
    "\n",
    "predict2 = np.dot(np.array([1, 7]).reshape(1,2),theta)\n",
    "print('For population = 70,000, we predict a profit of : ', predict2*10000)\n"
   ]
  }
 ],
 "metadata": {
  "kernelspec": {
   "display_name": "Python 3",
   "language": "python",
   "name": "python3"
  },
  "language_info": {
   "codemirror_mode": {
    "name": "ipython",
    "version": 3
   },
   "file_extension": ".py",
   "mimetype": "text/x-python",
   "name": "python",
   "nbconvert_exporter": "python",
   "pygments_lexer": "ipython3",
   "version": "3.8.10"
  }
 },
 "nbformat": 4,
 "nbformat_minor": 4
}
