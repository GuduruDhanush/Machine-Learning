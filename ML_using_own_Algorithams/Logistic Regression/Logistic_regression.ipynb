{
 "cells": [
  {
   "cell_type": "code",
   "execution_count": 52,
   "id": "42e3c4f5",
   "metadata": {},
   "outputs": [],
   "source": [
    "import numpy as np\n",
    "import matplotlib.pyplot as plt"
   ]
  },
  {
   "cell_type": "code",
   "execution_count": 53,
   "id": "3964ccbd",
   "metadata": {},
   "outputs": [],
   "source": [
    "def sigmoid(z):\n",
    "    h_x = 1/(1+np.e**(-z))\n",
    "    return h_x"
   ]
  },
  {
   "cell_type": "code",
   "execution_count": 54,
   "id": "932f6532",
   "metadata": {},
   "outputs": [],
   "source": [
    "def compute_cost(x,y,theta):\n",
    "    m = y.shape[0]\n",
    "    z = np.dot(x,theta)\n",
    "    g = sigmoid(z)\n",
    "    J_theta = (-1/m)* (np.sum(y*np.log(g) + (1-y)*np.log(1-g)))\n",
    "    \n",
    "    grad = (1/m)*((np.dot(x.T,g) - np.dot(x.T,y)).T)\n",
    "    \n",
    "    return J_theta,grad"
   ]
  },
  {
   "cell_type": "code",
   "execution_count": 55,
   "id": "6251d658",
   "metadata": {},
   "outputs": [
    {
     "name": "stdout",
     "output_type": "stream",
     "text": [
      "69.31471805599453\n",
      "[[ -0.1         32.22213703  32.51099904]\n",
      " [-44.33135362 -12.00921659 -11.72035457]\n",
      " [-43.87384125 -11.55170422 -11.26284221]]\n"
     ]
    }
   ],
   "source": [
    "data = np.loadtxt('ex2data1.txt',delimiter=',')\n",
    "x = data[:,:2]\n",
    "y = data[:,-1]\n",
    "\n",
    "m = y.shape[0]\n",
    "X = np.concatenate((np.ones((m,1)),x),axis = 1)\n",
    "n = X.shape[1]\n",
    "theta = np.zeros((n,1))\n",
    "\n",
    "iters = 1500\n",
    "learning_rate = 0.1\n",
    "\n",
    "J,grad = compute_cost(X,y,theta)\n",
    "print(J)\n",
    "print(grad)"
   ]
  },
  {
   "cell_type": "code",
   "execution_count": null,
   "id": "46d113ff",
   "metadata": {},
   "outputs": [],
   "source": []
  },
  {
   "cell_type": "code",
   "execution_count": null,
   "id": "f1a92b2d",
   "metadata": {},
   "outputs": [],
   "source": []
  }
 ],
 "metadata": {
  "kernelspec": {
   "display_name": "Python 3",
   "language": "python",
   "name": "python3"
  },
  "language_info": {
   "codemirror_mode": {
    "name": "ipython",
    "version": 3
   },
   "file_extension": ".py",
   "mimetype": "text/x-python",
   "name": "python",
   "nbconvert_exporter": "python",
   "pygments_lexer": "ipython3",
   "version": "3.8.10"
  }
 },
 "nbformat": 4,
 "nbformat_minor": 5
}
